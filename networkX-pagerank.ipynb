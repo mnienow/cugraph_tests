{
 "cells": [
  {
   "cell_type": "code",
   "execution_count": 1,
   "metadata": {},
   "outputs": [],
   "source": [
    "# NetworkX libraries\n",
    "import time\n",
    "import networkx as nx\n",
    "import pandas as pd"
   ]
  },
  {
   "cell_type": "code",
   "execution_count": 2,
   "metadata": {},
   "outputs": [],
   "source": [
    "# define the parameters \n",
    "max_iter = 100  # The maximum number of iterations\n",
    "tol = 0.00001   # tolerance\n",
    "alpha = 0.85    # alpha\n",
    "datafile = 'data/sub.csv'"
   ]
  },
  {
   "cell_type": "code",
   "execution_count": 3,
   "metadata": {},
   "outputs": [
    {
     "name": "stdout",
     "output_type": "stream",
     "text": [
      "     src   dst\n",
      "0   1526  1527\n",
      "1   1526  1528\n",
      "2   1526  1529\n",
      "3   1526  1530\n",
      "4   1526  1531\n",
      "5   1526  1532\n",
      "6   1526  1533\n",
      "7   1526  1534\n",
      "8   1526  1535\n",
      "9   1526  1536\n",
      "10  1526  1537\n",
      "11  1526  1538\n",
      "12  1526  1539\n",
      "13  1526  1540\n"
     ]
    }
   ],
   "source": [
    "df = pd.read_csv(filepath_or_buffer=datafile, sep='\\t', names=['src', 'dst'], dtype={\"src\": \"int32\", \"dst\": \"int32\"}, header=0)\n",
    "\n",
    "print(df)"
   ]
  },
  {
   "cell_type": "code",
   "execution_count": 4,
   "metadata": {},
   "outputs": [],
   "source": [
    "Gnx = nx.from_pandas_edgelist(df, source='src', target='dst', create_using=nx.DiGraph)"
   ]
  },
  {
   "cell_type": "code",
   "execution_count": 5,
   "metadata": {},
   "outputs": [
    {
     "name": "stdout",
     "output_type": "stream",
     "text": [
      "    vertex  pagerank\n",
      "0     1526  0.063091\n",
      "1     1527  0.066922\n",
      "2     1528  0.066922\n",
      "3     1529  0.066922\n",
      "4     1530  0.066922\n",
      "5     1531  0.066922\n",
      "6     1532  0.066922\n",
      "7     1533  0.066922\n",
      "8     1534  0.066922\n",
      "9     1535  0.066922\n",
      "10    1536  0.066922\n",
      "11    1537  0.066922\n",
      "12    1538  0.066922\n",
      "13    1539  0.066922\n",
      "14    1540  0.066922\n"
     ]
    }
   ],
   "source": [
    "pr_nx = nx.pagerank(Gnx, alpha=alpha, max_iter=max_iter, tol=tol)\n",
    "\n",
    "vertex = pr_nx.keys()\n",
    "pagerank = pr_nx.values()\n",
    "df2 = pd.DataFrame(list(zip(vertex, pagerank)), columns=['vertex','pagerank'])\n",
    "print(df2)"
   ]
  },
  {
   "cell_type": "code",
   "execution_count": null,
   "metadata": {},
   "outputs": [],
   "source": []
  }
 ],
 "metadata": {
  "kernelspec": {
   "display_name": "Python 3",
   "language": "python",
   "name": "python3"
  },
  "language_info": {
   "codemirror_mode": {
    "name": "ipython",
    "version": 3
   },
   "file_extension": ".py",
   "mimetype": "text/x-python",
   "name": "python",
   "nbconvert_exporter": "python",
   "pygments_lexer": "ipython3",
   "version": "3.7.6"
  }
 },
 "nbformat": 4,
 "nbformat_minor": 4
}
