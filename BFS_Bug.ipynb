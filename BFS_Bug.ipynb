{
 "cells": [
  {
   "cell_type": "code",
   "execution_count": 1,
   "metadata": {},
   "outputs": [],
   "source": [
    "# Rapids libraries\n",
    "import time\n",
    "import rmm \n",
    "import cudf \n",
    "import cugraph"
   ]
  },
  {
   "cell_type": "code",
   "execution_count": 2,
   "metadata": {},
   "outputs": [],
   "source": [
    "# define the parameters \n",
    "max_iter = 100  # The maximum number of iterations\n",
    "tol = 0.00001   # tolerance\n",
    "alpha = 0.85    # alpha\n",
    "input_data_path = 'data/5000ed.csv'"
   ]
  },
  {
   "cell_type": "code",
   "execution_count": 3,
   "metadata": {},
   "outputs": [],
   "source": [
    "df = cudf.read_csv(input_data_path, delimiter='\\t', names=['src', 'dst'], dtype=['int32', 'int32'], header=0)"
   ]
  },
  {
   "cell_type": "code",
   "execution_count": 4,
   "metadata": {},
   "outputs": [],
   "source": [
    "G = cugraph.DiGraph()\n",
    "G.from_cudf_edgelist(df, source='src', destination='dst', renumber=True)\n",
    "nodes = G.nodes()"
   ]
  },
  {
   "cell_type": "code",
   "execution_count": 5,
   "metadata": {},
   "outputs": [
    {
     "name": "stdout",
     "output_type": "stream",
     "text": [
      "      vertex  distance  predecessor\n",
      "0          0         0           -1\n",
      "1966    1606         1            0\n",
      "2035    1666         1            0\n",
      "2036    1667         2         1666\n"
     ]
    }
   ],
   "source": [
    "df1 = cugraph.bfs(G, nodes[0])\n",
    "print(df1.query('distance < 3'))\n",
    "# BFS finds paths that do not exist and path that is not relevant to the request"
   ]
  },
  {
   "cell_type": "code",
   "execution_count": 7,
   "metadata": {},
   "outputs": [
    {
     "name": "stdout",
     "output_type": "stream",
     "text": [
      "Empty DataFrame\n",
      "Columns: [src, dst]\n",
      "Index: [] \n",
      "\n"
     ]
    }
   ],
   "source": [
    "# paths from vertex 0 can be found by request:\n",
    "print(df.query('src == 0'), \"\\n\")"
   ]
  },
  {
   "cell_type": "code",
   "execution_count": 8,
   "metadata": {},
   "outputs": [
    {
     "name": "stdout",
     "output_type": "stream",
     "text": [
      "   src  dst\n",
      "0    1    0\n"
     ]
    }
   ],
   "source": [
    "# checking query results at another vertex:\n",
    "print(df.query('src == 1'))"
   ]
  },
  {
   "cell_type": "code",
   "execution_count": null,
   "metadata": {},
   "outputs": [],
   "source": []
  }
 ],
 "metadata": {
  "kernelspec": {
   "display_name": "Python 3",
   "language": "python",
   "name": "python3"
  },
  "language_info": {
   "codemirror_mode": {
    "name": "ipython",
    "version": 3
   },
   "file_extension": ".py",
   "mimetype": "text/x-python",
   "name": "python",
   "nbconvert_exporter": "python",
   "pygments_lexer": "ipython3",
   "version": "3.7.6"
  }
 },
 "nbformat": 4,
 "nbformat_minor": 4
}
