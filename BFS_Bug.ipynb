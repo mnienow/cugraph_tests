{
 "cells": [
  {
   "cell_type": "code",
   "execution_count": 1,
   "metadata": {},
   "outputs": [],
   "source": [
    "# Rapids libraries\n",
    "import time\n",
    "import rmm \n",
    "import cudf \n",
    "import cugraph"
   ]
  },
  {
   "cell_type": "code",
   "execution_count": 49,
   "metadata": {},
   "outputs": [],
   "source": [
    "# define the parameters \n",
    "max_iter = 100  # The maximum number of iterations\n",
    "tol = 0.00001   # tolerance\n",
    "alpha = 0.85    # alpha\n",
    "input_data_path = 'data/5000ed.csv'"
   ]
  },
  {
   "cell_type": "code",
   "execution_count": 50,
   "metadata": {},
   "outputs": [
    {
     "name": "stdout",
     "output_type": "stream",
     "text": [
      "Reader:  0.0037729740142822266 s\n",
      "\n",
      "       src   dst\n",
      "0        1     0\n",
      "1        3     2\n",
      "2        2     3\n",
      "3        5     4\n",
      "4        4     5\n",
      "...    ...   ...\n",
      "4995  1859  1853\n",
      "4996  1860  1853\n",
      "4997  1861  1853\n",
      "4998  1862  1853\n",
      "4999  1863  1853\n",
      "\n",
      "[5000 rows x 2 columns]\n"
     ]
    }
   ],
   "source": [
    "df = cudf.read_csv(input_data_path, delimiter='\\t', names=['src', 'dst'], dtype=['int32', 'int32'], header=0)\n",
    "\n",
    "print(df)"
   ]
  },
  {
   "cell_type": "code",
   "execution_count": 51,
   "metadata": {},
   "outputs": [
    {
     "name": "stdout",
     "output_type": "stream",
     "text": [
      "Creating graph:  0.005114555358886719 s\n",
      "\n",
      "0              0\n",
      "1       23934102\n",
      "2              1\n",
      "3       12638714\n",
      "4       21484994\n",
      "          ...   \n",
      "3425    21484989\n",
      "3426    23934098\n",
      "3427    23934099\n",
      "3428    23934100\n",
      "3429    23934101\n",
      "Length: 3430, dtype: int32\n"
     ]
    }
   ],
   "source": [
    "G = cugraph.DiGraph()\n",
    "G.from_cudf_edgelist(df, source='src', destination='dst', renumber=True)\n",
    "nodes = G.nodes()"
   ]
  },
  {
   "cell_type": "code",
   "execution_count": 52,
   "metadata": {},
   "outputs": [
    {
     "name": "stdout",
     "output_type": "stream",
     "text": [
      "      vertex  distance  predecessor\n",
      "0          0         0           -1\n",
      "1966    1606         1            0\n",
      "2035    1666         1            0\n",
      "2036    1667         2         1666\n"
     ]
    }
   ],
   "source": [
    "df1 = cugraph.bfs(G, nodes[0])\n",
    "print(df1.query('distance < 3'))\n",
    "# BFS finds paths that do not exist and path that is not relevant to the request"
   ]
  },
  {
   "cell_type": "code",
   "execution_count": 42,
   "metadata": {},
   "outputs": [
    {
     "name": "stdout",
     "output_type": "stream",
     "text": [
      "Empty DataFrame\n",
      "Columns: [src, dst]\n",
      "Index: [] \n",
      "\n",
      "   src  dst\n",
      "0    1    0\n"
     ]
    }
   ],
   "source": [
    "# paths from vertex 0 can be found by request:\n",
    "print(df.query('src == 0'), \"\\n\")\n",
    "\n",
    "# checking query results at another vertex:\n",
    "print(df.query('src == 1'))"
   ]
  },
  {
   "cell_type": "code",
   "execution_count": null,
   "metadata": {},
   "outputs": [],
   "source": []
  }
 ],
 "metadata": {
  "kernelspec": {
   "display_name": "Python 3",
   "language": "python",
   "name": "python3"
  },
  "language_info": {
   "codemirror_mode": {
    "name": "ipython",
    "version": 3
   },
   "file_extension": ".py",
   "mimetype": "text/x-python",
   "name": "python",
   "nbconvert_exporter": "python",
   "pygments_lexer": "ipython3",
   "version": "3.7.6"
  }
 },
 "nbformat": 4,
 "nbformat_minor": 4
}
